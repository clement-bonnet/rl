{
 "metadata": {
  "language_info": {
   "codemirror_mode": {
    "name": "ipython",
    "version": 3
   },
   "file_extension": ".py",
   "mimetype": "text/x-python",
   "name": "python",
   "nbconvert_exporter": "python",
   "pygments_lexer": "ipython3",
   "version": "3.7.7-final"
  },
  "orig_nbformat": 2,
  "kernelspec": {
   "name": "gym",
   "display_name": "gym",
   "language": "python"
  }
 },
 "nbformat": 4,
 "nbformat_minor": 2,
 "cells": [
  {
   "cell_type": "code",
   "execution_count": 1,
   "metadata": {},
   "outputs": [],
   "source": [
    "import numpy as np\n",
    "import torch\n",
    "\n",
    "from algorithms.ddpg import DdpgAgent"
   ]
  },
  {
   "cell_type": "code",
   "execution_count": 3,
   "metadata": {},
   "outputs": [
    {
     "output_type": "stream",
     "name": "stdout",
     "text": [
      "Step 100000\n",
      "Agent loaded! Comment: Agent trained on 100000 steps.\n",
      "Creating window glfw\n"
     ]
    }
   ],
   "source": [
    "for step in [200_000]: \n",
    "    print(\"Step\", step)\n",
    "    agent = DdpgAgent.load(\"models/humanoid/exp_2/step_{}\".format(step))\n",
    "    agent.test_display(sleep_step=0.02, nb_episodes=5)"
   ]
  }
 ]
}