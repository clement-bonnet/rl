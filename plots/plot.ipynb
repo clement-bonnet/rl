{
 "metadata": {
  "language_info": {
   "codemirror_mode": {
    "name": "ipython",
    "version": 3
   },
   "file_extension": ".py",
   "mimetype": "text/x-python",
   "name": "python",
   "nbconvert_exporter": "python",
   "pygments_lexer": "ipython3",
   "version": "3.7.7-final"
  },
  "orig_nbformat": 2,
  "kernelspec": {
   "name": "gym",
   "display_name": "gym",
   "language": "python"
  }
 },
 "nbformat": 4,
 "nbformat_minor": 2,
 "cells": [
  {
   "cell_type": "code",
   "execution_count": null,
   "metadata": {},
   "outputs": [],
   "source": [
    "import os\n",
    "\n",
    "import matplotlib\n",
    "import matplotlib.pyplot as plt\n",
    "import numpy as np\n",
    "import pandas as pd\n",
    "from seaborn import set_theme\n",
    "set_theme()"
   ]
  },
  {
   "cell_type": "code",
   "execution_count": null,
   "metadata": {},
   "outputs": [],
   "source": [
    "# Uncomment to save fig\n",
    "\n",
    "# matplotlib.use(\"pgf\")\n",
    "# matplotlib.rcParams.update({\n",
    "#     \"pgf.texsystem\": \"pdflatex\",\n",
    "#     'font.family': 'serif',\n",
    "#     'text.usetex': True,\n",
    "#     'pgf.rcfonts': False,\n",
    "# })"
   ]
  },
  {
   "cell_type": "code",
   "execution_count": null,
   "metadata": {},
   "outputs": [],
   "source": [
    "MODEL_FREE_PATH = \"model_free\"\n",
    "MODEL_BASED_PATH = \"model_based\"\n",
    "MODEL_FREE_TYPES = [\"reward\", \"steps\", \"actor\", \"critic\"]\n",
    "MODEL_BASED_TYPES = MODEL_FREE_TYPES + [\"model_p\", \"model_t\", \"model_r\", \"model_total\"]"
   ]
  },
  {
   "cell_type": "code",
   "execution_count": null,
   "metadata": {},
   "outputs": [],
   "source": [
    "mf_dfs = {\n",
    "    type_: np.array([pd.read_csv(os.path.join(MODEL_FREE_PATH, \"mf_{}_{}.csv\".format(type_, i))).iloc[:,1:] for i in [1,2,3]]) for type_ in MODEL_FREE_TYPES\n",
    "}\n",
    "mb_dfs = {\n",
    "    type_: np.array([pd.read_csv(os.path.join(MODEL_BASED_PATH, \"mb_{}_{}.csv\".format(type_, i))).iloc[:,1:] for i in [1,2,3]]) for type_ in MODEL_BASED_TYPES\n",
    "}"
   ]
  },
  {
   "cell_type": "code",
   "execution_count": null,
   "metadata": {
    "tags": []
   },
   "outputs": [],
   "source": [
    "LABELS = {\n",
    "    \"reward\": (\"Millon Steps\", \"Return\", \"Average Return\"),\n",
    "    \"steps\": (\"Millon Steps\", \"Number of Steps\", \"Average Episode Duration\"),\n",
    "    \"actor\": (\"Millon Steps\", \"Loss\", \"Actor Training Loss\"),\n",
    "    \"critic\": (\"Millon Steps\", \"Loss\", \"Critic Training Loss\"),\n",
    "    \"model_p\": (\"Millon Steps\", \"Loss\", \"Model Dynamics Training Loss\"),\n",
    "    \"model_t\": (\"Millon Steps\", \"Loss\", \"Model Termination Training Loss\"),\n",
    "    \"model_r\": (\"Millon Steps\", \"Loss\", \"Model Reward Training Loss\"),\n",
    "    \"model_total\": (\"Millon Steps\", \"Loss\", \"Model Total Training Loss Function\")\n",
    "    }\n",
    "NB_SIGMA = 1\n",
    "DOWN_SAMPLING = 25\n",
    "NB_RUNS = 3\n",
    "FIG_SIZE = (10,5)\n",
    "FONT_SIZE = 8\n",
    "MAX_STEPS = 1000000\n",
    "\n",
    "\n",
    "plt.figure(figsize=FIG_SIZE);\n",
    "for i, type_ in enumerate(MODEL_FREE_TYPES):\n",
    "    nb_sigma = NB_SIGMA\n",
    "    down_sampling = DOWN_SAMPLING\n",
    "\n",
    "    plt.subplot(2,4,i+1);\n",
    "\n",
    "    mf_y_mean = mf_dfs[type_][:,:,1].mean(axis=0)\n",
    "    mf_y_mean = mf_y_mean.reshape(-1, down_sampling).mean(axis=1)\n",
    "    mf_y_std = mf_dfs[type_][:,:,1].transpose().reshape(-1,NB_RUNS*down_sampling).std(axis=1)\n",
    "    mf_x = mf_dfs[type_][0,(down_sampling-1)//2::down_sampling,0]/MAX_STEPS\n",
    "    plt.plot(mf_x, mf_y_mean, label=\"Model-Free\");\n",
    "    plt.fill_between(mf_x, mf_y_mean - nb_sigma*mf_y_std, mf_y_mean + nb_sigma*mf_y_std, alpha=0.5);\n",
    "\n",
    "    mb_y_mean = mb_dfs[type_][:,:,1].mean(axis=0)\n",
    "    mb_y_mean = mb_y_mean.reshape(-1, down_sampling).mean(axis=1)\n",
    "    mb_y_std = mb_dfs[type_][:,:,1].transpose().reshape(-1,NB_RUNS*down_sampling).std(axis=1)\n",
    "\n",
    "    mb_x = mb_dfs[type_][0,(down_sampling-1)//2::down_sampling,0]/MAX_STEPS\n",
    "    plt.plot(mb_x, mb_y_mean, label=\"Model-Based\");\n",
    "    plt.fill_between(mb_x, mb_y_mean - nb_sigma*mb_y_std, mb_y_mean + nb_sigma*mb_y_std, alpha=0.5);\n",
    "\n",
    "    xlab, ylab, title = LABELS[type_]\n",
    "    plt.xlabel(xlab, fontsize=FONT_SIZE);\n",
    "    plt.ylabel(ylab, fontsize=FONT_SIZE, labelpad=0);\n",
    "    plt.title(title, fontsize=FONT_SIZE);\n",
    "    plt.grid(False);\n",
    "    if i == 0:\n",
    "        plt.legend(fontsize=FONT_SIZE);\n",
    "    plt.xticks(fontsize=FONT_SIZE-2);\n",
    "    plt.yticks(fontsize=FONT_SIZE-2);\n",
    "\n",
    "for i, type_ in enumerate([type_ for type_ in MODEL_BASED_TYPES if type_ not in MODEL_FREE_TYPES]):\n",
    "    nb_sigma = NB_SIGMA\n",
    "    down_sampling = DOWN_SAMPLING\n",
    "\n",
    "    plt.subplot(2,4,i+5);\n",
    "\n",
    "    mb_y_mean = mb_dfs[type_][:,:,1].mean(axis=0)\n",
    "    mb_y_mean = mb_y_mean.reshape(-1, down_sampling).mean(axis=1)\n",
    "    mb_y_std = mb_dfs[type_][:,:,1].transpose().reshape(-1,NB_RUNS*down_sampling).std(axis=1)\n",
    "    mb_x = mb_dfs[type_][0,(down_sampling-1)//2::down_sampling,0]/MAX_STEPS\n",
    "    plt.plot(mb_x, mb_y_mean, label=\"Model-Based\");\n",
    "    plt.fill_between(mb_x, mb_y_mean - nb_sigma*mb_y_std, mb_y_mean + nb_sigma*mb_y_std, alpha=0.3);\n",
    "\n",
    "    xlab, ylab, title = LABELS[type_]\n",
    "    plt.xlabel(xlab, fontsize=FONT_SIZE);\n",
    "    plt.ylabel(ylab, fontsize=FONT_SIZE, labelpad=0);\n",
    "    plt.title(title, fontsize=FONT_SIZE);\n",
    "    if i==0:\n",
    "        plt.legend(fontsize=FONT_SIZE, loc=\"upper left\");\n",
    "    plt.grid(False);\n",
    "    plt.xticks(fontsize=FONT_SIZE-2);\n",
    "    plt.yticks(fontsize=FONT_SIZE-2);\n",
    "plt.subplots_adjust(hspace=0.5, wspace=0.25);\n",
    "# plt.tight_layout(pad=0, h_pad=1.5, w_pad=0.5, rect=None);\n",
    "plt.show();\n",
    "# with plt.style.context(['classic', {'text.usetex': True}]):\n",
    "#     plt.savefig(\"plot_ddpg_training.pgf\");"
   ]
  }
 ]
}