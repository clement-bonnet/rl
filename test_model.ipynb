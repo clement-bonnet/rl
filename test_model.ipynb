{
 "metadata": {
  "language_info": {
   "codemirror_mode": {
    "name": "ipython",
    "version": 3
   },
   "file_extension": ".py",
   "mimetype": "text/x-python",
   "name": "python",
   "nbconvert_exporter": "python",
   "pygments_lexer": "ipython3",
   "version": "3.7.7-final"
  },
  "orig_nbformat": 2,
  "kernelspec": {
   "name": "gym",
   "display_name": "gym",
   "language": "python"
  }
 },
 "nbformat": 4,
 "nbformat_minor": 2,
 "cells": [
  {
   "cell_type": "code",
   "execution_count": null,
   "metadata": {},
   "outputs": [],
   "source": [
    "import gym\n",
    "import numpy as np\n",
    "import torch\n",
    "\n",
    "from algorithms.model_free_ddpg import DdpgAgent\n",
    "from algorithms.model_based_ddpg import ModelBasedDDPG"
   ]
  },
  {
   "cell_type": "code",
   "execution_count": null,
   "metadata": {},
   "outputs": [],
   "source": [
    "agent = DdpgAgent.load(\"models/paper_experiments/model_based_1/step_1000000\")\n",
    "agent.test_display(sleep_step=0.0, nb_episodes=3)"
   ]
  },
  {
   "cell_type": "code",
   "execution_count": null,
   "metadata": {},
   "outputs": [],
   "source": [
    "agent = DdpgAgent.load(\"models/paper_experiments/model_free_1/step_1000000\")\n",
    "agent.test_display(sleep_step=0.0, nb_episodes=3)"
   ]
  }
 ]
}