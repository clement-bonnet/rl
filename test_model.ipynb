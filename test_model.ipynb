{
 "metadata": {
  "language_info": {
   "codemirror_mode": {
    "name": "ipython",
    "version": 3
   },
   "file_extension": ".py",
   "mimetype": "text/x-python",
   "name": "python",
   "nbconvert_exporter": "python",
   "pygments_lexer": "ipython3",
   "version": "3.7.7-final"
  },
  "orig_nbformat": 2,
  "kernelspec": {
   "name": "gym",
   "display_name": "gym",
   "language": "python"
  }
 },
 "nbformat": 4,
 "nbformat_minor": 2,
 "cells": [
  {
   "cell_type": "code",
   "execution_count": 1,
   "metadata": {},
   "outputs": [],
   "source": [
    "import numpy as np\n",
    "import torch\n",
    "\n",
    "from algorithms.ddpg import DdpgAgent"
   ]
  },
  {
   "cell_type": "code",
   "execution_count": 4,
   "metadata": {},
   "outputs": [
    {
     "output_type": "execute_result",
     "data": {
      "text/plain": [
       "(11,)"
      ]
     },
     "metadata": {},
     "execution_count": 4
    }
   ],
   "source": [
    "import gym\n",
    "env = gym.make(\"Hopper-v2\")\n",
    "env.observation_space.shape"
   ]
  },
  {
   "cell_type": "code",
   "execution_count": 1,
   "metadata": {},
   "outputs": [
    {
     "output_type": "stream",
     "name": "stdout",
     "text": [
      "Agent loaded! Comment: Agent trained on 500000 steps.\nCreating window glfw\n"
     ]
    }
   ],
   "source": [
    "import numpy as np\n",
    "import torch\n",
    "\n",
    "from algorithms.ddpg import DdpgAgent\n",
    "\n",
    "agent = DdpgAgent.load(\"models/mb/exp_21/step_500000\")\n",
    "agent.test_display(sleep_step=0.0, nb_episodes=3)"
   ]
  },
  {
   "cell_type": "code",
   "execution_count": 2,
   "metadata": {},
   "outputs": [
    {
     "output_type": "stream",
     "name": "stdout",
     "text": [
      "Agent loaded! Comment: Agent trained on 100000 steps.\n",
      "Creating window glfw\n"
     ]
    }
   ],
   "source": [
    "agent = DdpgAgent.load(\"models/hopper/exp_11/step_100000\")\n",
    "agent.test_display(sleep_step=0.0, nb_episodes=3)"
   ]
  },
  {
   "cell_type": "code",
   "execution_count": 3,
   "metadata": {},
   "outputs": [
    {
     "output_type": "stream",
     "name": "stdout",
     "text": [
      "200000 steps\n",
      "Agent loaded! Comment: Agent trained on 200000 steps.\n",
      "Creating window glfw\n",
      "400000 steps\n",
      "Agent loaded! Comment: Agent trained on 400000 steps.\n",
      "Creating window glfw\n",
      "600000 steps\n",
      "Agent loaded! Comment: Agent trained on 600000 steps.\n",
      "Creating window glfw\n"
     ]
    }
   ],
   "source": [
    "for nb_steps in [200_000,400_000,600_000]: \n",
    "    print(nb_steps, \"steps\")\n",
    "    agent = DdpgAgent.load(\"models/hopper/exp_11/step_{}\".format(nb_steps))\n",
    "    agent.test_display(sleep_step=0.0, nb_episodes=1, sleep_before_start=1)"
   ]
  },
  {
   "cell_type": "code",
   "execution_count": 2,
   "metadata": {},
   "outputs": [
    {
     "output_type": "stream",
     "name": "stdout",
     "text": [
      "Agent loaded! Comment: Agent trained on 500000 steps.\n",
      "Creating window glfw\n"
     ]
    }
   ],
   "source": [
    "nb_step = 500_000\n",
    "max_steps = 1000\n",
    "nb_episodes = 1\n",
    "agent = DdpgAgent.load(\"models/hopper/exp_11/step_{}\".format(nb_step))\n",
    "agent.env.reset()\n",
    "agent.env.render()\n",
    "for _ in range(nb_episodes):\n",
    "    done = False\n",
    "    s = torch.from_numpy(agent.env.reset())\n",
    "    step = 1\n",
    "    while not done:\n",
    "        if max_steps is not None and step > max_steps:\n",
    "            break\n",
    "        a = agent.actor.cpu().get_action(s)\n",
    "        s2, reward, done, info = agent.env.step(a)\n",
    "        agent.env.render()\n",
    "        if done:\n",
    "            break\n",
    "        s = torch.from_numpy(s2)\n",
    "        step += 1\n",
    "agent.env.close()"
   ]
  }
 ]
}