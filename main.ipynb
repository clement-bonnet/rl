{
 "metadata": {
  "language_info": {
   "codemirror_mode": {
    "name": "ipython",
    "version": 3
   },
   "file_extension": ".py",
   "mimetype": "text/x-python",
   "name": "python",
   "nbconvert_exporter": "python",
   "pygments_lexer": "ipython3",
   "version": "3.7.7-final"
  },
  "orig_nbformat": 2,
  "kernelspec": {
   "name": "python3",
   "display_name": "Python 3",
   "language": "python"
  }
 },
 "nbformat": 4,
 "nbformat_minor": 2,
 "cells": [
  {
   "cell_type": "code",
   "execution_count": 1,
   "metadata": {},
   "outputs": [],
   "source": [
    "from algorithms.ddpg import DdpgAgent"
   ]
  },
  {
   "cell_type": "code",
   "execution_count": null,
   "metadata": {},
   "outputs": [],
   "source": [
    "ENV_NAME = \"Hopper-v2\"\n",
    "NB_EPISODES = 50\n",
    "MAX_STEPS = 10_000\n",
    "BATCH_SIZE = 128\n",
    "BUFFER_SIZE = 1_000_000\n",
    "BUFFER_START = 1000\n",
    "GAMMA = 0.99\n",
    "LR_ACTOR = 1e-4\n",
    "LR_CRITIC = 1e-3\n",
    "TAU = 0.001\n",
    "H1 = 300\n",
    "H2 = 400\n",
    "INIT_W = 1e-4\n",
    "SW_PATH = \"runs/hopper/exp_1\"\n",
    "\n",
    "agent = DdpgAgent(\n",
    "    ENV_NAME, h1=H1, h2=H2, buffer_size=BUFFER_SIZE, buffer_start=BUFFER_START, gamma=GAMMA, init_w=INIT_W)\n",
    "agent.train(\n",
    "    NB_EPISODES, MAX_STEPS, BATCH_SIZE, summary_writer_path=SW_PATH,\n",
    "    lr_actor=LR_ACTOR, lr_critic=LR_CRITIC, tau=TAU,\n",
    "    save_episodes=[1, 5, 10, 15, 20, 30, 50],\n",
    "    save_path=\"models/hopper/exp_1\", verbose=False)"
   ]
  }
 ]
}